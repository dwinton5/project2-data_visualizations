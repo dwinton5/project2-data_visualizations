{
 "cells": [
  {
   "cell_type": "code",
   "execution_count": 1,
   "metadata": {},
   "outputs": [],
   "source": [
    "import pandas as pd"
   ]
  },
  {
   "cell_type": "code",
   "execution_count": null,
   "metadata": {},
   "outputs": [],
   "source": [
    "Vac_Data_2016 = pd.read_csv (r'State_Vac_Data\\2015-2016_Vac_Data.csv')\n",
    "\n",
    "Vac_Data_2016.to_json (r'State_Vac_Data\\2015-2016_Vac_Data.json')"
   ]
  },
  {
   "cell_type": "code",
   "execution_count": null,
   "metadata": {},
   "outputs": [],
   "source": [
    "Vac_Data_2017 = pd.read_csv (r'State_Vac_Data\\2016-2017_Vac_Data.csv')\n",
    "\n",
    "Vac_Data_2017.to_json (r'State_Vac_Data\\2016-2017_Vac_Data.json')"
   ]
  },
  {
   "cell_type": "code",
   "execution_count": 2,
   "metadata": {},
   "outputs": [],
   "source": [
    "Vac_Data_2018 = pd.read_csv (r'State_Vac_Data\\2017-2018_Vac_Data.csv')\n",
    "\n",
    "Vac_Data_2018.to_json (r'State_Vac_Data\\2017-2018_Vac_Data.json')"
   ]
  },
  {
   "cell_type": "code",
   "execution_count": null,
   "metadata": {},
   "outputs": [],
   "source": [
    "Vac_Data_2019 = pd.read_csv (r'State_Vac_Data\\2018-2019_Vac_Data.csv')\n",
    "\n",
    "Vac_Data_2019.to_json (r'State_Vac_Data\\2018-2019_Vac_Data.json')"
   ]
  }
 ],
 "metadata": {
  "kernelspec": {
   "display_name": "Python 3.6.9 64-bit ('PythonData': conda)",
   "language": "python",
   "name": "python36964bitpythondataconda8874c7571ed14580aab49f46c787db15"
  },
  "language_info": {
   "codemirror_mode": {
    "name": "ipython",
    "version": 3
   },
   "file_extension": ".py",
   "mimetype": "text/x-python",
   "name": "python",
   "nbconvert_exporter": "python",
   "pygments_lexer": "ipython3",
   "version": "3.6.10"
  }
 },
 "nbformat": 4,
 "nbformat_minor": 4
}
